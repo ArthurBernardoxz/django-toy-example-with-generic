{
 "cells": [
  {
   "cell_type": "code",
   "execution_count": 4,
   "metadata": {},
   "outputs": [],
   "source": [
    "import sys\n",
    "\n",
    "#define a raiz do projeto par aser possivel importar os modulos\n",
    "sys.path.append(\"../../src\")\n",
    "\n",
    "def restart_django():\n",
    "    import os\n",
    "    import sys\n",
    "    import django\n",
    "    #define a raiz do projeto par aser possivel importar os modulos\n",
    "    sys.path.append(\"../../src\") \n",
    "\n",
    "    #configura o ambiente\n",
    "    os.environ.setdefault(\"DJANGO_SETTINGS_MODULE\", \"toy_example.settings\")\n",
    "    os.environ[\"DJANGO_ALLOW_ASYNC_UNSAFE\"] = \"true\"\n",
    "    django.setup()\n",
    "restart_django()"
   ]
  },
  {
   "cell_type": "markdown",
   "metadata": {},
   "source": [
    "Um dos objetivos do jupyter é \"brincar\" e entender o que foi feito e fazer testes preliminares. Até para ajudar a criar métodos mais complexos...vejam aqui como testamos a classe pessoa (Person, do arquivo `person.py`) e a classe EyeColor (do arquivo `models.py`). Não esqueça de **reiniciar o kernel caso tenha mudado algo no código**."
   ]
  },
  {
   "cell_type": "code",
   "execution_count": 5,
   "metadata": {},
   "outputs": [],
   "source": [
    "from toy.models import *"
   ]
  },
  {
   "cell_type": "code",
   "execution_count": 6,
   "metadata": {},
   "outputs": [
    {
     "data": {
      "text/plain": [
       "<QuerySet [Eye color: amber, Eye color: hazel, Eye color: blue, Eye color: green, Eye color: brown, Eye color: dark-brown]>"
      ]
     },
     "execution_count": 6,
     "metadata": {},
     "output_type": "execute_result"
    }
   ],
   "source": [
    "#veja que as cores dos olhos são automaticamente inseridas e é facil ve-las\n",
    "EyeColor.objects.all()\n"
   ]
  },
  {
   "cell_type": "code",
   "execution_count": 7,
   "metadata": {},
   "outputs": [
    {
     "data": {
      "text/plain": [
       "[('amber', 'Amber'),\n",
       " ('hazel', 'Hazel'),\n",
       " ('blue', 'Blue'),\n",
       " ('green', 'Green'),\n",
       " ('brown', 'Brown'),\n",
       " ('dark-brown', 'Dark Brown')]"
      ]
     },
     "execution_count": 7,
     "metadata": {},
     "output_type": "execute_result"
    }
   ],
   "source": [
    "EyeColor.color_name.field.choices"
   ]
  },
  {
   "cell_type": "code",
   "execution_count": 8,
   "metadata": {},
   "outputs": [
    {
     "data": {
      "text/plain": [
       "[{'id': 1, 'color_name': 'amber'},\n",
       " {'id': 2, 'color_name': 'hazel'},\n",
       " {'id': 3, 'color_name': 'blue'},\n",
       " {'id': 4, 'color_name': 'green'},\n",
       " {'id': 5, 'color_name': 'brown'},\n",
       " {'id': 6, 'color_name': 'dark-brown'}]"
      ]
     },
     "execution_count": 8,
     "metadata": {},
     "output_type": "execute_result"
    }
   ],
   "source": [
    "#caso queira visualizar de forma mais bonitinha, \n",
    "#transforme numa lista de dicionario de valores\n",
    "#e use o pandas\n",
    "import pandas as pd\n",
    "eyes_list = EyeColor.objects.all().values()\n",
    "list(eyes_list)"
   ]
  },
  {
   "cell_type": "code",
   "execution_count": 9,
   "metadata": {},
   "outputs": [
    {
     "data": {
      "text/html": [
       "<div>\n",
       "<style scoped>\n",
       "    .dataframe tbody tr th:only-of-type {\n",
       "        vertical-align: middle;\n",
       "    }\n",
       "\n",
       "    .dataframe tbody tr th {\n",
       "        vertical-align: top;\n",
       "    }\n",
       "\n",
       "    .dataframe thead th {\n",
       "        text-align: right;\n",
       "    }\n",
       "</style>\n",
       "<table border=\"1\" class=\"dataframe\">\n",
       "  <thead>\n",
       "    <tr style=\"text-align: right;\">\n",
       "      <th></th>\n",
       "      <th>id</th>\n",
       "      <th>color_name</th>\n",
       "    </tr>\n",
       "  </thead>\n",
       "  <tbody>\n",
       "    <tr>\n",
       "      <th>0</th>\n",
       "      <td>1</td>\n",
       "      <td>amber</td>\n",
       "    </tr>\n",
       "    <tr>\n",
       "      <th>1</th>\n",
       "      <td>2</td>\n",
       "      <td>hazel</td>\n",
       "    </tr>\n",
       "    <tr>\n",
       "      <th>2</th>\n",
       "      <td>3</td>\n",
       "      <td>blue</td>\n",
       "    </tr>\n",
       "    <tr>\n",
       "      <th>3</th>\n",
       "      <td>4</td>\n",
       "      <td>green</td>\n",
       "    </tr>\n",
       "    <tr>\n",
       "      <th>4</th>\n",
       "      <td>5</td>\n",
       "      <td>brown</td>\n",
       "    </tr>\n",
       "    <tr>\n",
       "      <th>5</th>\n",
       "      <td>6</td>\n",
       "      <td>dark-brown</td>\n",
       "    </tr>\n",
       "  </tbody>\n",
       "</table>\n",
       "</div>"
      ],
      "text/plain": [
       "   id  color_name\n",
       "0   1       amber\n",
       "1   2       hazel\n",
       "2   3        blue\n",
       "3   4       green\n",
       "4   5       brown\n",
       "5   6  dark-brown"
      ]
     },
     "execution_count": 9,
     "metadata": {},
     "output_type": "execute_result"
    }
   ],
   "source": [
    "pd.DataFrame.from_dict(eyes_list)"
   ]
  },
  {
   "cell_type": "markdown",
   "metadata": {},
   "source": [
    "Também é possivel brincar com inserções e métodos que fizemos das classes: "
   ]
  },
  {
   "cell_type": "code",
   "execution_count": 10,
   "metadata": {},
   "outputs": [
    {
     "data": {
      "text/plain": [
       "Name: Adamastor birth: 1984-04-14 00:00:00 Eye color: blue"
      ]
     },
     "execution_count": 10,
     "metadata": {},
     "output_type": "execute_result"
    }
   ],
   "source": [
    "from datetime import datetime\n",
    "cor_azul = EyeColor.objects.get(color_name=EyeColor.BLUE)\n",
    "Person.objects.create(name=\"Adamastor\",birth_date=datetime.strptime(\"14/04/1984\", '%d/%m/%Y'), eye_color=cor_azul)"
   ]
  },
  {
   "cell_type": "code",
   "execution_count": 11,
   "metadata": {},
   "outputs": [
    {
     "data": {
      "text/plain": [
       "<QuerySet [Name: Adamastor birth: 1984-04-14 Eye color: blue]>"
      ]
     },
     "execution_count": 11,
     "metadata": {},
     "output_type": "execute_result"
    }
   ],
   "source": [
    "Person.objects.all()"
   ]
  },
  {
   "cell_type": "code",
   "execution_count": 13,
   "metadata": {},
   "outputs": [],
   "source": [
    "Person.objects.create_from_csv(\"../../data/tests/person.csv\")"
   ]
  },
  {
   "cell_type": "code",
   "execution_count": 14,
   "metadata": {},
   "outputs": [
    {
     "data": {
      "text/html": [
       "<div>\n",
       "<style scoped>\n",
       "    .dataframe tbody tr th:only-of-type {\n",
       "        vertical-align: middle;\n",
       "    }\n",
       "\n",
       "    .dataframe tbody tr th {\n",
       "        vertical-align: top;\n",
       "    }\n",
       "\n",
       "    .dataframe thead th {\n",
       "        text-align: right;\n",
       "    }\n",
       "</style>\n",
       "<table border=\"1\" class=\"dataframe\">\n",
       "  <thead>\n",
       "    <tr style=\"text-align: right;\">\n",
       "      <th></th>\n",
       "      <th>name</th>\n",
       "      <th>eye_color__color_name</th>\n",
       "      <th>birth_date</th>\n",
       "    </tr>\n",
       "  </thead>\n",
       "  <tbody>\n",
       "    <tr>\n",
       "      <th>0</th>\n",
       "      <td>Adamastor</td>\n",
       "      <td>blue</td>\n",
       "      <td>1984-04-14</td>\n",
       "    </tr>\n",
       "    <tr>\n",
       "      <th>1</th>\n",
       "      <td>Elisa</td>\n",
       "      <td>green</td>\n",
       "      <td>2022-02-12</td>\n",
       "    </tr>\n",
       "    <tr>\n",
       "      <th>2</th>\n",
       "      <td>Fabio</td>\n",
       "      <td>blue</td>\n",
       "      <td>1999-01-11</td>\n",
       "    </tr>\n",
       "    <tr>\n",
       "      <th>3</th>\n",
       "      <td>Gabriel</td>\n",
       "      <td>green</td>\n",
       "      <td>2000-03-11</td>\n",
       "    </tr>\n",
       "    <tr>\n",
       "      <th>4</th>\n",
       "      <td>Hugo</td>\n",
       "      <td>brown</td>\n",
       "      <td>1984-04-14</td>\n",
       "    </tr>\n",
       "  </tbody>\n",
       "</table>\n",
       "</div>"
      ],
      "text/plain": [
       "        name eye_color__color_name  birth_date\n",
       "0  Adamastor                  blue  1984-04-14\n",
       "1      Elisa                 green  2022-02-12\n",
       "2      Fabio                  blue  1999-01-11\n",
       "3    Gabriel                 green  2000-03-11\n",
       "4       Hugo                 brown  1984-04-14"
      ]
     },
     "execution_count": 14,
     "metadata": {},
     "output_type": "execute_result"
    }
   ],
   "source": [
    "import pandas as pd\n",
    "#ao buscar, seleciona apenas o nome, a cor do olho (pelo seu nome) e a data de nascimento\n",
    "person_list = Person.objects.all().values(\"name\",\"eye_color__color_name\",\"birth_date\")\n",
    "pd.DataFrame.from_dict(person_list)"
   ]
  },
  {
   "cell_type": "markdown",
   "metadata": {},
   "source": [
    "Esse foi um teste que fiz para depois criar o arquivo de [testes automatizados da da classe pessoa](../../src/productivity_view/tests/models/person.py)"
   ]
  },
  {
   "cell_type": "code",
   "execution_count": null,
   "metadata": {},
   "outputs": [],
   "source": [
    "#create_bulk cria varias pesssoas\n",
    "cor_azul = EyeColor.objects.get(color_name=EyeColor.BLUE)\n",
    "cor_castanho = EyeColor.objects.get(color_name=EyeColor.BROWN)\n",
    "cor_verde = EyeColor.objects.get(color_name=EyeColor.GREEN)\n",
    "Person.objects.bulk_create(\n",
    "    [Person(name=\"Alice\",birth_date=datetime.strptime(\"04/03/1984\", '%d/%m/%Y'), eye_color=cor_azul),\n",
    "     Person(name=\"Bob\",birth_date=datetime.strptime(\"12/02/1999\", '%d/%m/%Y'), eye_color=cor_castanho),\n",
    "     Person(name=\"Carol\",birth_date=datetime.strptime(\"14/01/2004\", '%d/%m/%Y'), eye_color=cor_verde)]\n",
    ")"
   ]
  },
  {
   "cell_type": "markdown",
   "metadata": {},
   "source": [
    "o get só funciona quando temos *apenas uma* instancia a ser retornada...caso vc de get e a função retorne um valor diferente de um, será lançada uma exceção. Faça o teste abaixo"
   ]
  },
  {
   "cell_type": "code",
   "execution_count": null,
   "metadata": {},
   "outputs": [],
   "source": [
    "\n",
    "Person.objects.get(name=\"Alice\")"
   ]
  },
  {
   "cell_type": "code",
   "execution_count": null,
   "metadata": {},
   "outputs": [],
   "source": [
    "from dateutil.relativedelta import relativedelta\n",
    "\n",
    "data = datetime.strptime(\"14/04/1984\", '%d/%m/%Y')\n",
    "relativedelta(datetime.now(),data).years"
   ]
  }
 ],
 "metadata": {
  "interpreter": {
   "hash": "31f2aee4e71d21fbe5cf8b01ff0e069b9275f58929596ceb00d14d90e3e16cd6"
  },
  "kernelspec": {
   "display_name": "Python 3.8.10 64-bit",
   "name": "python3"
  },
  "language_info": {
   "codemirror_mode": {
    "name": "ipython",
    "version": 3
   },
   "file_extension": ".py",
   "mimetype": "text/x-python",
   "name": "python",
   "nbconvert_exporter": "python",
   "pygments_lexer": "ipython3",
   "version": "3.8.10"
  }
 },
 "nbformat": 4,
 "nbformat_minor": 4
}
